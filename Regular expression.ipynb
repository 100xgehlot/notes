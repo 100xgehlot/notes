{
 "cells": [
  {
   "cell_type": "code",
   "execution_count": 1,
   "id": "6acb579f",
   "metadata": {},
   "outputs": [
    {
     "name": "stdout",
     "output_type": "stream",
     "text": [
      "Generated regex: ^(cat|dog|cow)$\n"
     ]
    }
   ],
   "source": [
    "def generate_regex(patterns):\n",
    "    \"\"\"\n",
    "    Takes a list of string patterns and combines them into a single regular expression.\n",
    "    \"\"\"\n",
    "    import re\n",
    "    escaped_patterns = [re.escape(pat) for pat in patterns]\n",
    "    combined = '|'.join(escaped_patterns)\n",
    "    regex = f\"^({combined})$\"\n",
    "    return regex\n",
    "\n",
    "# Example usage\n",
    "patterns = [\"cat\", \"dog\", \"cow\"]\n",
    "regex = generate_regex(patterns)\n",
    "print(\"Generated regex:\", regex)\n",
    "\n"
   ]
  },
  {
   "cell_type": "code",
   "execution_count": 2,
   "id": "6ea1b14f",
   "metadata": {},
   "outputs": [
    {
     "name": "stdout",
     "output_type": "stream",
     "text": [
      "NFA Transitions:\n",
      "q0 -- a --> q1\n",
      "q1 -- b --> q2\n",
      "Regex from NFA: ab\n"
     ]
    }
   ],
   "source": [
    "class State:\n",
    "    def __init__(self, name):\n",
    "        self.name = name\n",
    "        self.transitions = {}\n",
    "\n",
    "    def add_transition(self, symbol, to_state):\n",
    "        if symbol in self.transitions:\n",
    "            self.transitions[symbol].append(to_state)\n",
    "        else:\n",
    "            self.transitions[symbol] = [to_state]\n",
    "\n",
    "class NFA:\n",
    "    def __init__(self):\n",
    "        self.states = {}\n",
    "        self.start = None\n",
    "        self.accept = None\n",
    "\n",
    "    def add_state(self, state_name, is_start=False, is_accept=False):\n",
    "        state = State(state_name)\n",
    "        self.states[state_name] = state\n",
    "        if is_start:\n",
    "            self.start = state\n",
    "        if is_accept:\n",
    "            self.accept = state\n",
    "\n",
    "    def add_transition(self, from_state, symbol, to_state):\n",
    "        self.states[from_state].add_transition(symbol, self.states[to_state])\n",
    "\n",
    "    def display(self):\n",
    "        print(\"NFA Transitions:\")\n",
    "        for state in self.states.values():\n",
    "            for symbol, destinations in state.transitions.items():\n",
    "                for dest in destinations:\n",
    "                    print(f\"{state.name} -- {symbol} --> {dest.name}\")\n",
    "\n",
    "# Example: Construct NFA manually\n",
    "nfa = NFA()\n",
    "nfa.add_state(\"q0\", is_start=True)\n",
    "nfa.add_state(\"q1\")\n",
    "nfa.add_state(\"q2\", is_accept=True)\n",
    "\n",
    "nfa.add_transition(\"q0\", 'a', \"q1\")\n",
    "nfa.add_transition(\"q1\", 'b', \"q2\")\n",
    "\n",
    "nfa.display()\n",
    "\n",
    "# Output: Manually create equivalent regex\n",
    "regex = \"ab\"\n",
    "print(\"Regex from NFA:\", regex)\n"
   ]
  },
  {
   "cell_type": "code",
   "execution_count": null,
   "id": "ff42d0ad",
   "metadata": {},
   "outputs": [],
   "source": []
  }
 ],
 "metadata": {
  "kernelspec": {
   "display_name": "Python 3 (ipykernel)",
   "language": "python",
   "name": "python3"
  },
  "language_info": {
   "codemirror_mode": {
    "name": "ipython",
    "version": 3
   },
   "file_extension": ".py",
   "mimetype": "text/x-python",
   "name": "python",
   "nbconvert_exporter": "python",
   "pygments_lexer": "ipython3",
   "version": "3.9.12"
  }
 },
 "nbformat": 4,
 "nbformat_minor": 5
}
